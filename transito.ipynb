{
 "cells": [
  {
   "cell_type": "code",
   "execution_count": 37,
   "id": "8eebaaf7",
   "metadata": {},
   "outputs": [],
   "source": [
    "import pandas as pd\n",
    "import numpy as np\n",
    "import datetime"
   ]
  },
  {
   "cell_type": "code",
   "execution_count": 38,
   "id": "a9be67af",
   "metadata": {},
   "outputs": [],
   "source": [
    "hoy = datetime.datetime.today()"
   ]
  },
  {
   "cell_type": "code",
   "execution_count": 39,
   "id": "94200c27",
   "metadata": {},
   "outputs": [],
   "source": [
    "tr = pd.read_excel('transito_raw.xlsx')"
   ]
  },
  {
   "cell_type": "code",
   "execution_count": 40,
   "id": "457df39f",
   "metadata": {},
   "outputs": [],
   "source": [
    "#crear lt fact y total\n",
    "condicion = [tr['Tipo.pedido']=='S',tr['Tipo.pedido']=='U',tr['Tipo.pedido']=='V']\n",
    "resultado = [30,10,5]\n",
    "resultado_2 = [90,25,15]\n",
    "\n",
    "tr['LT Fact'] = np.select(condicion,resultado,0)\n",
    "tr['LT Total'] = np.select(condicion,resultado_2,0)\n",
    "\n"
   ]
  },
  {
   "cell_type": "code",
   "execution_count": 41,
   "id": "6ca00cf3",
   "metadata": {},
   "outputs": [],
   "source": [
    "tr['Fecha.creación'] = pd.to_datetime(tr['Fecha.creación'])"
   ]
  },
  {
   "cell_type": "code",
   "execution_count": 42,
   "id": "db7aac67",
   "metadata": {},
   "outputs": [],
   "source": [
    "tr['Fecha O'] = np.where(\n",
    "    tr['Status.línea.pedido'] == 'O',\n",
    "    np.where(\n",
    "        tr['Fecha.creación'] + pd.to_timedelta(tr['LT Fact'], unit='D') >= pd.to_datetime(hoy),\n",
    "        tr['Fecha.creación'] + pd.to_timedelta(tr['LT Total'], unit='D'),\n",
    "        pd.to_datetime(hoy) + pd.to_timedelta(tr['LT Total'] * 1.5, unit='D')\n",
    "    ),\n",
    "    pd.NaT  # Reemplaza 0 con un valor de fecha/tiempo nulo\n",
    ")"
   ]
  },
  {
   "cell_type": "code",
   "execution_count": 43,
   "id": "512a1202",
   "metadata": {},
   "outputs": [],
   "source": [
    "tr['Fecha O'] = pd.to_datetime(tr['Fecha O'])"
   ]
  },
  {
   "cell_type": "code",
   "execution_count": 46,
   "id": "9fadd6f1",
   "metadata": {},
   "outputs": [],
   "source": [
    "etas = pd.read_excel('etas.xlsx')"
   ]
  },
  {
   "cell_type": "code",
   "execution_count": 52,
   "id": "32b0d4f9",
   "metadata": {},
   "outputs": [],
   "source": [
    "# 1. Convert all date-like columns to datetime format.\n",
    "#    The `errors='coerce'` will turn any invalid values (like '0') into NaT.\n",
    "etas['Fecha Arribo Bodega'] = pd.to_datetime(etas['Fecha Arribo Bodega'], errors='coerce')\n",
    "etas['Retiro puerto'] = pd.to_datetime(etas['Retiro puerto'], errors='coerce')\n",
    "etas['Manifiesto'] = pd.to_datetime(etas['Manifiesto'], errors='coerce')\n",
    "etas['ETA inicial'] = pd.to_datetime(etas['ETA inicial'], errors='coerce')\n",
    "\n",
    "# 2. Apply the selection logic using .notna()\n",
    "#    This is much cleaner and more reliable than comparing to 0.\n",
    "etas['Fecha consolidada'] = np.where(\n",
    "    etas['Fecha Arribo Bodega'].notna(),\n",
    "    etas['Fecha Arribo Bodega'],\n",
    "    np.where(\n",
    "        etas['Retiro puerto'].notna(),\n",
    "        etas['Retiro puerto'],\n",
    "        np.where(\n",
    "            etas['Manifiesto'].notna(),\n",
    "            etas['Manifiesto'],\n",
    "            etas['ETA inicial']\n",
    "        )\n",
    "    )\n",
    ")"
   ]
  },
  {
   "cell_type": "code",
   "execution_count": 54,
   "id": "f94007da",
   "metadata": {},
   "outputs": [
    {
     "data": {
      "text/plain": [
       "Fecha consolidada\n",
       "2025-09-04    2\n",
       "2025-09-06    2\n",
       "2025-09-08    5\n",
       "2025-09-10    1\n",
       "2025-09-11    2\n",
       "2025-09-12    3\n",
       "2025-09-15    1\n",
       "2025-09-16    2\n",
       "2025-10-01    1\n",
       "2025-10-15    1\n",
       "Name: count, dtype: int64"
      ]
     },
     "execution_count": 54,
     "metadata": {},
     "output_type": "execute_result"
    }
   ],
   "source": [
    "etas['Fecha consolidada'].value_counts().sort_index()"
   ]
  },
  {
   "cell_type": "code",
   "execution_count": null,
   "id": "ca742ccf",
   "metadata": {},
   "outputs": [],
   "source": []
  }
 ],
 "metadata": {
  "kernelspec": {
   "display_name": "Python 3",
   "language": "python",
   "name": "python3"
  },
  "language_info": {
   "codemirror_mode": {
    "name": "ipython",
    "version": 3
   },
   "file_extension": ".py",
   "mimetype": "text/x-python",
   "name": "python",
   "nbconvert_exporter": "python",
   "pygments_lexer": "ipython3",
   "version": "3.13.7"
  }
 },
 "nbformat": 4,
 "nbformat_minor": 5
}
