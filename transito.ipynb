{
 "cells": [
  {
   "cell_type": "code",
   "execution_count": 32,
   "id": "8eebaaf7",
   "metadata": {},
   "outputs": [],
   "source": [
    "import pandas as pd\n",
    "import numpy as np\n",
    "import datetime"
   ]
  },
  {
   "cell_type": "code",
   "execution_count": 33,
   "id": "a9be67af",
   "metadata": {},
   "outputs": [],
   "source": [
    "hoy = datetime.datetime.today()"
   ]
  },
  {
   "cell_type": "code",
   "execution_count": 34,
   "id": "7e55a449",
   "metadata": {},
   "outputs": [
    {
     "name": "stdout",
     "output_type": "stream",
     "text": [
      "Ruta del archivo seleccionado: C:/Users/lravlic/codigos/dispo_bmw/transito_raw.xlsx\n",
      "DataFrame cargado exitosamente:\n"
     ]
    }
   ],
   "source": [
    "import tkinter as tk\n",
    "from tkinter import filedialog\n",
    "import pandas as pd\n",
    "\n",
    "# Inicializar tkinter y ocultar la ventana principal\n",
    "root = tk.Tk()\n",
    "root.withdraw() \n",
    "\n",
    "# Abrir el explorador de archivos para seleccionar un archivo\n",
    "filepath = filedialog.askopenfilename(\n",
    "    title=\"Selecciona un archivo\",\n",
    "    filetypes=((\"Todos los archivos\", \"*.*\"),(\"Archivos de texto\", \"*.txt\"))\n",
    ")\n",
    "\n",
    "# Imprimir la ruta del archivo seleccionado\n",
    "if filepath:  # Asegurarse de que el usuario no canceló la selección\n",
    "    print(f\"Ruta del archivo seleccionado: {filepath}\")\n",
    "\n",
    "    # Ejemplo de cómo usar la ruta para leer un archivo CSV\n",
    "    try:\n",
    "        ruta = filepath\n",
    "        print(\"DataFrame cargado exitosamente:\")\n",
    "    \n",
    "    except Exception as e:\n",
    "        print(f\"Error al leer el archivo: {e}\")\n",
    "else:\n",
    "    print(\"No se seleccionó ningún archivo.\")"
   ]
  },
  {
   "cell_type": "code",
   "execution_count": 35,
   "id": "94200c27",
   "metadata": {},
   "outputs": [],
   "source": [
    "tr = pd.read_excel(ruta)"
   ]
  },
  {
   "cell_type": "code",
   "execution_count": 36,
   "id": "457df39f",
   "metadata": {},
   "outputs": [],
   "source": [
    "#crear lt fact y total\n",
    "condicion = [tr['Tipo.pedido']=='S',tr['Tipo.pedido']=='U',tr['Tipo.pedido']=='V']\n",
    "resultado = [30,10,5]\n",
    "resultado_2 = [90,25,15]\n",
    "\n",
    "tr['LT Fact'] = np.select(condicion,resultado,0)\n",
    "tr['LT Total'] = np.select(condicion,resultado_2,0)\n",
    "\n"
   ]
  },
  {
   "cell_type": "code",
   "execution_count": 37,
   "id": "6ca00cf3",
   "metadata": {},
   "outputs": [],
   "source": [
    "tr['Fecha.creación'] = pd.to_datetime(tr['Fecha.creación'])"
   ]
  },
  {
   "cell_type": "code",
   "execution_count": 38,
   "id": "db7aac67",
   "metadata": {},
   "outputs": [],
   "source": [
    "tr['Fecha O'] = np.where(\n",
    "    tr['Status.línea.pedido'] == 'O',\n",
    "    np.where(\n",
    "        tr['Fecha.creación'] + pd.to_timedelta(tr['LT Fact'], unit='D') >= pd.to_datetime(hoy),\n",
    "        tr['Fecha.creación'] + pd.to_timedelta(tr['LT Total'], unit='D'),\n",
    "        pd.to_datetime(hoy) + pd.to_timedelta(tr['LT Total'] * 1.5, unit='D')\n",
    "    ),\n",
    "    pd.NaT  # Reemplaza 0 con un valor de fecha/tiempo nulo\n",
    ")"
   ]
  },
  {
   "cell_type": "code",
   "execution_count": 39,
   "id": "512a1202",
   "metadata": {},
   "outputs": [],
   "source": [
    "tr['Fecha O'] = pd.to_datetime(tr['Fecha O'])"
   ]
  },
  {
   "cell_type": "code",
   "execution_count": 40,
   "id": "04c07606",
   "metadata": {},
   "outputs": [
    {
     "name": "stdout",
     "output_type": "stream",
     "text": [
      "Ruta del archivo seleccionado: C:/Users/lravlic/codigos/dispo_bmw/etas.xlsx\n",
      "DataFrame cargado exitosamente:\n"
     ]
    }
   ],
   "source": [
    "# Inicializar tkinter y ocultar la ventana principal\n",
    "root = tk.Tk()\n",
    "root.withdraw() \n",
    "\n",
    "# Abrir el explorador de archivos para seleccionar un archivo\n",
    "filepath = filedialog.askopenfilename(\n",
    "    title=\"Selecciona un archivo\",\n",
    "    filetypes=((\"Todos los archivos\", \"*.*\"),(\"Archivos de texto\", \"*.txt\"))\n",
    ")\n",
    "\n",
    "# Imprimir la ruta del archivo seleccionado\n",
    "if filepath:  # Asegurarse de que el usuario no canceló la selección\n",
    "    print(f\"Ruta del archivo seleccionado: {filepath}\")\n",
    "\n",
    "    # Ejemplo de cómo usar la ruta para leer un archivo CSV\n",
    "    try:\n",
    "        ruta = filepath\n",
    "        print(\"DataFrame cargado exitosamente:\")\n",
    "    \n",
    "    except Exception as e:\n",
    "        print(f\"Error al leer el archivo: {e}\")\n",
    "else:\n",
    "    print(\"No se seleccionó ningún archivo.\")"
   ]
  },
  {
   "cell_type": "code",
   "execution_count": 41,
   "id": "9fadd6f1",
   "metadata": {},
   "outputs": [],
   "source": [
    "etas = pd.read_excel(ruta)"
   ]
  },
  {
   "cell_type": "code",
   "execution_count": 42,
   "id": "32b0d4f9",
   "metadata": {},
   "outputs": [],
   "source": [
    "# 1. Convert all date-like columns to datetime format.\n",
    "#    The `errors='coerce'` will turn any invalid values (like '0') into NaT.\n",
    "etas['Fecha Arribo Bodega'] = pd.to_datetime(etas['Fecha Arribo Bodega'], errors='coerce')\n",
    "etas['Retiro puerto'] = pd.to_datetime(etas['Retiro puerto'], errors='coerce')\n",
    "etas['Manifiesto'] = pd.to_datetime(etas['Manifiesto'], errors='coerce')\n",
    "etas['ETA inicial'] = pd.to_datetime(etas['ETA inicial'], errors='coerce')\n",
    "\n",
    "# 2. Apply the selection logic using .notna()\n",
    "#    This is much cleaner and more reliable than comparing to 0.\n",
    "etas['Fecha consolidada'] = np.where(\n",
    "    etas['Fecha Arribo Bodega'].notna(),\n",
    "    etas['Fecha Arribo Bodega'],\n",
    "    np.where(\n",
    "        etas['Retiro puerto'].notna(),\n",
    "        etas['Retiro puerto'],\n",
    "        np.where(\n",
    "            etas['Manifiesto'].notna(),\n",
    "            etas['Manifiesto'],\n",
    "            etas['ETA inicial']\n",
    "        )\n",
    "    )\n",
    ")"
   ]
  },
  {
   "cell_type": "code",
   "execution_count": 43,
   "id": "8724ffcd",
   "metadata": {},
   "outputs": [],
   "source": [
    "tr['Nº.de.referencia'] = tr['Nº.de.referencia'].astype('str')"
   ]
  },
  {
   "cell_type": "code",
   "execution_count": 44,
   "id": "41e37c20",
   "metadata": {},
   "outputs": [],
   "source": [
    "\n",
    "\n",
    "tr['Factura'] = np.where(\n",
    "    tr['Status.línea.pedido'] == 'A',\n",
    "    '872' + tr['Nº.de.referencia'],\n",
    "    \"0\"\n",
    ")"
   ]
  },
  {
   "cell_type": "code",
   "execution_count": 45,
   "id": "8b17b7a0",
   "metadata": {},
   "outputs": [],
   "source": [
    "etas.drop_duplicates(subset='Factura BMW', inplace=True)"
   ]
  },
  {
   "cell_type": "code",
   "execution_count": 46,
   "id": "cc04eb5e",
   "metadata": {},
   "outputs": [],
   "source": [
    "tr['Factura'] = tr['Factura'].astype('str')\n",
    "etas['Factura BMW'] = etas['Factura BMW'].astype('str')"
   ]
  },
  {
   "cell_type": "code",
   "execution_count": 47,
   "id": "2ea24228",
   "metadata": {},
   "outputs": [],
   "source": [
    "tr_etas = tr.merge(etas[['Factura BMW','Fecha consolidada']], left_on='Factura', right_on='Factura BMW', how='left')"
   ]
  },
  {
   "cell_type": "code",
   "execution_count": 48,
   "id": "f2be42af",
   "metadata": {},
   "outputs": [],
   "source": [
    "tr_etas.drop(columns=['Factura BMW'], inplace=True)"
   ]
  },
  {
   "cell_type": "code",
   "execution_count": 49,
   "id": "7a8353d6",
   "metadata": {},
   "outputs": [],
   "source": [
    "tr_etas['Fecha A'] = np.where(\n",
    "    tr_etas['Status.línea.pedido']=='A',\n",
    "    tr_etas['Fecha consolidada'],\n",
    "    pd.NaT\n",
    "    \n",
    ")"
   ]
  },
  {
   "cell_type": "code",
   "execution_count": 50,
   "id": "e0d92016",
   "metadata": {},
   "outputs": [],
   "source": [
    "tr_etas['Fecha A'] = pd.to_datetime(tr_etas['Fecha A'])"
   ]
  },
  {
   "cell_type": "code",
   "execution_count": 51,
   "id": "b5697751",
   "metadata": {},
   "outputs": [],
   "source": [
    "tr_etas['Status'] = np.where(\n",
    "    tr_etas['Status.línea.pedido'] == 'O',\n",
    "    np.where(\n",
    "        tr['Fecha.creación'] + pd.to_timedelta(tr['LT Fact'], unit='D') >= pd.to_datetime(hoy),\"Transito\",\"Transito Vencido\"\n",
    "    ),\n",
    "    np.where(tr_etas['Status.línea.pedido']==\"A\",\n",
    "             np.where(\n",
    "                  tr_etas['Fecha A']  >= pd.to_datetime(hoy),\"Facturado\", \"Facturado Vencido\"\n",
    "             ),\"0\") \n",
    ")"
   ]
  },
  {
   "cell_type": "code",
   "execution_count": 52,
   "id": "e2c5a1dc",
   "metadata": {},
   "outputs": [
    {
     "data": {
      "text/plain": [
       "Status\n",
       "0                    40200\n",
       "Facturado Vencido     1348\n",
       "Facturado              960\n",
       "Transito Vencido       702\n",
       "Name: count, dtype: int64"
      ]
     },
     "execution_count": 52,
     "metadata": {},
     "output_type": "execute_result"
    }
   ],
   "source": [
    "tr_etas['Status'].value_counts()"
   ]
  },
  {
   "cell_type": "code",
   "execution_count": null,
   "id": "ddca6d41",
   "metadata": {},
   "outputs": [],
   "source": [
    "# Define the conditions and corresponding choices\n",
    "conditions = [\n",
    "    (tr_etas['Status.línea.pedido'] == 'A') & (tr_etas['Tipo.pedido'] == 'S') & (tr_etas['Status'] == 'Facturado Vencido'),\n",
    "    (tr_etas['Status.línea.pedido'] == 'A') & (tr_etas['Tipo.pedido'] == 'U') & (tr_etas['Status'] == 'Facturado Vencido'),\n",
    "    (tr_etas['Status.línea.pedido'] == 'A') & (tr_etas['Tipo.pedido'] == 'V') & (tr_etas['Status'] == 'Facturado Vencido'),\n",
    "    (tr_etas['Status.línea.pedido'] == 'A'),\n",
    "    (tr_etas['Status.línea.pedido'] == 'O')\n",
    "]\n",
    "\n",
    "# Define the choices that correspond to each condition\n",
    "choices = [\n",
    "    pd.to_datetime('today').normalize() + pd.Timedelta(days=45),\n",
    "    pd.to_datetime('today').normalize() + pd.Timedelta(days=15),\n",
    "    pd.to_datetime('today').normalize() + pd.Timedelta(days=5),\n",
    "    tr_etas['Fecha A'],\n",
    "    tr_etas['Fecha O']\n",
    "]\n",
    "\n",
    "# Apply the conditions using np.select()\n",
    "tr_etas['Fecha Final'] = np.select(conditions, choices, default=0)"
   ]
  },
  {
   "cell_type": "code",
   "execution_count": null,
   "id": "f4cd2b4b",
   "metadata": {},
   "outputs": [],
   "source": [
    "tr_etas['Fecha Final'] = pd.to_datetime(tr_etas['Fecha Final'])"
   ]
  },
  {
   "cell_type": "code",
   "execution_count": null,
   "id": "5c47ceee",
   "metadata": {},
   "outputs": [
    {
     "data": {
      "text/plain": [
       "Resultado\n",
       "1970-01-01 00:00:00.000000    40200\n",
       "2025-11-13 00:00:00.000000      988\n",
       "2025-10-01 00:00:00.000000      822\n",
       "2025-11-05 22:06:13.719778      465\n",
       "2025-10-14 00:00:00.000000      338\n",
       "2026-02-11 10:06:13.719778      221\n",
       "2025-10-15 00:00:00.000000      138\n",
       "2025-10-04 00:00:00.000000       22\n",
       "2025-10-21 22:06:13.719778       15\n",
       "2025-09-29 10:06:13.719778        1\n",
       "Name: count, dtype: int64"
      ]
     },
     "execution_count": 56,
     "metadata": {},
     "output_type": "execute_result"
    }
   ],
   "source": [
    "tr_etas['Fecha Final'].value_counts()"
   ]
  },
  {
   "cell_type": "code",
   "execution_count": 57,
   "id": "ddff653b",
   "metadata": {},
   "outputs": [],
   "source": [
    "condicion = [tr_etas['Status.línea.pedido']=='A', tr_etas['Status.línea.pedido']=='O']\n",
    "opcion = [tr_etas['Cantidad.aconsejada'], tr_etas['Cantidad.requerida']]\n",
    "\n",
    "tr_etas['Cantidad Final'] = np.select(condicion, opcion, 0)"
   ]
  },
  {
   "cell_type": "code",
   "execution_count": 58,
   "id": "ec0dde57",
   "metadata": {},
   "outputs": [
    {
     "name": "stdout",
     "output_type": "stream",
     "text": [
      "DataFrame exportado exitosamente a: C:/Users/lravlic/codigos/dispo_bmw/transito_bmw.xlsx\n"
     ]
    }
   ],
   "source": [
    "# Inicializar tkinter y ocultar la ventana principal\n",
    "root = tk.Tk()\n",
    "root.withdraw() \n",
    "\n",
    "# Abrir el explorador de archivos para guardar el DataFrame\n",
    "filepath = filedialog.asksaveasfilename(\n",
    "    defaultextension=\".xlsx\",\n",
    "    filetypes=( (\"Archivos de Excel\", \"*.xlsx\"),(\"Archivos XLSX\", \"*.xlsx\")),\n",
    "    title=\"Guardar DataFrame como...\"\n",
    ")\n",
    "\n",
    "# Exportar el DataFrame si el usuario seleccionó una ubicación\n",
    "if filepath:\n",
    "    try:\n",
    "        # Exportar a CSV\n",
    "        if filepath.endswith('.csv'):\n",
    "            tr_etas.to_csv(filepath, index=False)\n",
    "            print(f\"DataFrame exportado exitosamente a: {filepath}\")\n",
    "        \n",
    "        # Exportar a Excel (requiere la librería openpyxl)\n",
    "        elif filepath.endswith('.xlsx'):\n",
    "            tr_etas.to_excel(filepath, index=False, engine='openpyxl')\n",
    "            print(f\"DataFrame exportado exitosamente a: {filepath}\")\n",
    "        \n",
    "        else:\n",
    "            print(\"Extensión de archivo no soportada.\")\n",
    "\n",
    "    except Exception as e:\n",
    "        print(f\"Error al exportar el archivo: {e}\")\n",
    "else:\n",
    "    print(\"No se seleccionó una ruta de guardado.\")"
   ]
  },
  {
   "cell_type": "code",
   "execution_count": null,
   "id": "cb7b394a",
   "metadata": {},
   "outputs": [],
   "source": []
  }
 ],
 "metadata": {
  "kernelspec": {
   "display_name": "Python 3",
   "language": "python",
   "name": "python3"
  },
  "language_info": {
   "codemirror_mode": {
    "name": "ipython",
    "version": 3
   },
   "file_extension": ".py",
   "mimetype": "text/x-python",
   "name": "python",
   "nbconvert_exporter": "python",
   "pygments_lexer": "ipython3",
   "version": "3.13.7"
  }
 },
 "nbformat": 4,
 "nbformat_minor": 5
}
